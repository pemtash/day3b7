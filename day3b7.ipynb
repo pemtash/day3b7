{
 "cells": [
  {
   "cell_type": "markdown",
   "metadata": {},
   "source": [
    "# DAY 3, ASSIGNMENT"
   ]
  },
  {
   "cell_type": "code",
   "execution_count": 1,
   "metadata": {},
   "outputs": [
    {
     "data": {
      "text/plain": [
       "' You all are pilots, you have to land a plane, the altitude required for landing \\nfor landing a plane is 1000ft, if it is less than that tell pilot to land the plane,\\nor it is more than that but less than 5000ft ask the pilot to come down to 1000ft, \\nelse if it is more than 5000ft ask the pilot to go around and try later'"
      ]
     },
     "execution_count": 1,
     "metadata": {},
     "output_type": "execute_result"
    }
   ],
   "source": [
    "\"\"\" You all are pilots, you have to land a plane, the altitude required for landing \n",
    "for landing a plane is 1000ft, if it is less than that tell pilot to land the plane,\n",
    "or it is more than that but less than 5000ft ask the pilot to come down to 1000ft, \n",
    "else if it is more than 5000ft ask the pilot to go around and try later\"\"\""
   ]
  },
  {
   "cell_type": "markdown",
   "metadata": {},
   "source": [
    "# when altitude is less than 1000"
   ]
  },
  {
   "cell_type": "code",
   "execution_count": 6,
   "metadata": {},
   "outputs": [
    {
     "name": "stdout",
     "output_type": "stream",
     "text": [
      "tell the pilot to land\n"
     ]
    }
   ],
   "source": [
    "altitude=900\n",
    "if altitude<=1000:\n",
    "    print('tell the pilot to land')\n",
    "elif altitude >1000 and altitude < 5000:\n",
    "    print('tell the pilot to come down to 1000ft')\n",
    "else:\n",
    "    print('tell the pilot to go around and try later')"
   ]
  },
  {
   "cell_type": "markdown",
   "metadata": {},
   "source": [
    "# when altitude is greater than 1000"
   ]
  },
  {
   "cell_type": "code",
   "execution_count": 7,
   "metadata": {},
   "outputs": [
    {
     "name": "stdout",
     "output_type": "stream",
     "text": [
      "tell the pilot to come down to 1000ft\n"
     ]
    }
   ],
   "source": [
    "altitude=1100\n",
    "if altitude<=1000:\n",
    "    print('tell the pilot to land')\n",
    "elif altitude >1000 and altitude < 5000:\n",
    "    print('tell the pilot to come down to 1000ft')\n",
    "else:\n",
    "    print('tell the pilot to go around and try later')"
   ]
  },
  {
   "cell_type": "markdown",
   "metadata": {},
   "source": [
    "# when altitude is greater than 5000 ft "
   ]
  },
  {
   "cell_type": "code",
   "execution_count": 8,
   "metadata": {},
   "outputs": [
    {
     "name": "stdout",
     "output_type": "stream",
     "text": [
      "tell the pilot to go around and try later\n"
     ]
    }
   ],
   "source": [
    "altitude=10000\n",
    "if altitude<=1000:\n",
    "    print('tell the pilot to land')\n",
    "elif altitude >1000 and altitude < 5000:\n",
    "    print('tell the pilot to come down to 1000ft')\n",
    "else:\n",
    "    print('tell the pilot to go around and try later')"
   ]
  },
  {
   "cell_type": "code",
   "execution_count": null,
   "metadata": {},
   "outputs": [],
   "source": []
  }
 ],
 "metadata": {
  "kernelspec": {
   "display_name": "Python 3",
   "language": "python",
   "name": "python3"
  },
  "language_info": {
   "codemirror_mode": {
    "name": "ipython",
    "version": 3
   },
   "file_extension": ".py",
   "mimetype": "text/x-python",
   "name": "python",
   "nbconvert_exporter": "python",
   "pygments_lexer": "ipython3",
   "version": "3.7.6"
  }
 },
 "nbformat": 4,
 "nbformat_minor": 4
}
